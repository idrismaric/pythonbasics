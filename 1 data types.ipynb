{
 "cells": [
  {
   "cell_type": "markdown",
   "metadata": {},
   "source": [
    "# Introduction to Programming using Python\n"
   ]
  },
  {
   "cell_type": "markdown",
   "metadata": {},
   "source": [
    "# The print function"
   ]
  },
  {
   "cell_type": "code",
   "execution_count": 6,
   "metadata": {},
   "outputs": [
    {
     "name": "stdout",
     "output_type": "stream",
     "text": [
      "Welcome to programming  !\n",
      "Programing is fun ! \n"
     ]
    }
   ],
   "source": [
    "print('Welcome to programming  !')\n",
    "print(\"Programing is fun ! \")"
   ]
  },
  {
   "cell_type": "markdown",
   "metadata": {},
   "source": [
    "Hey this is my programing class ! \n",
    "I can put my own notes "
   ]
  },
  {
   "cell_type": "code",
   "execution_count": null,
   "metadata": {},
   "outputs": [],
   "source": []
  },
  {
   "cell_type": "code",
   "execution_count": 7,
   "metadata": {},
   "outputs": [
    {
     "name": "stdout",
     "output_type": "stream",
     "text": [
      "41\n"
     ]
    }
   ],
   "source": [
    "print(41)"
   ]
  },
  {
   "cell_type": "markdown",
   "metadata": {},
   "source": [
    "my comments "
   ]
  },
  {
   "cell_type": "markdown",
   "metadata": {},
   "source": [
    "#### print() is  a function. The print function outputs anything you put in within brackets to the screen. \n",
    "- When printing characters always start and end with quotation marks. It can be ' or \". Always start and end with the same type of quotation mark.\n",
    "- Number can be printed without quotation marks."
   ]
  },
  {
   "cell_type": "markdown",
   "metadata": {},
   "source": [
    "### Comments\n",
    "\n",
    "- As programs get bigger and more complicated, they get more difficult to read.\n",
    "- It is often difficult to look at a piece of code and figure out what it is doing, or why.\n",
    "- For this reason, it is a good idea to add notes to your programs to explain what the program is doing.\n",
    "- A comment in a computer program is intended only for the human reader — it is completely ignored by the interpreter.\n",
    "- In Python, the # token starts a comment. The rest of the line is ignored. Here is a new version of Hello, World!."
   ]
  },
  {
   "cell_type": "code",
   "execution_count": 8,
   "metadata": {},
   "outputs": [
    {
     "name": "stdout",
     "output_type": "stream",
     "text": [
      "Hello, World!\n"
     ]
    }
   ],
   "source": [
    "#---------------------------------------------------\n",
    "# This is a demo program written in October 2019\n",
    "# Anyone may freely copy or modify this program.\n",
    "#---------------------------------------------------\n",
    "\n",
    "print(\"Hello, World!\")     # I wrote my first program. Isn't this easy!"
   ]
  },
  {
   "cell_type": "markdown",
   "metadata": {},
   "source": [
    "### Using Python as a calculator"
   ]
  },
  {
   "cell_type": "markdown",
   "metadata": {},
   "source": [
    "You can try the following operators:\n",
    "\n",
    "| Operator | Description |\n",
    "| :------: | :---------: |\n",
    "| +        |Addition|\n",
    "| -        |Subtraction|\n",
    "| *        |Multiplication|\n",
    "| /        |Division|\n",
    "| %        |Modulus|\n",
    "| **       |Exponent|\n",
    "| //       |Floor Division|"
   ]
  },
  {
   "cell_type": "markdown",
   "metadata": {},
   "source": [
    "#### Lets try some simple statements in python"
   ]
  },
  {
   "cell_type": "code",
   "execution_count": 12,
   "metadata": {},
   "outputs": [
    {
     "name": "stdout",
     "output_type": "stream",
     "text": [
      "4\n",
      "20\n",
      "5.0\n",
      "1.6\n"
     ]
    }
   ],
   "source": [
    "\n",
    "print(2 + 2)\n",
    "print(50 - 5*6)\n",
    "\n",
    "print((50 - 5*6) / 4)\n",
    "print(8 / 5) # division always returns a floating point number"
   ]
  },
  {
   "cell_type": "code",
   "execution_count": 13,
   "metadata": {},
   "outputs": [
    {
     "name": "stdout",
     "output_type": "stream",
     "text": [
      "52\n"
     ]
    }
   ],
   "source": [
    "a=31\n",
    "b=21\n",
    "d=a+b\n",
    "print(d)\n"
   ]
  },
  {
   "cell_type": "code",
   "execution_count": null,
   "metadata": {},
   "outputs": [],
   "source": []
  },
  {
   "cell_type": "code",
   "execution_count": 16,
   "metadata": {},
   "outputs": [
    {
     "name": "stdout",
     "output_type": "stream",
     "text": [
      "5.666666666666667\n",
      "5\n",
      "2\n"
     ]
    }
   ],
   "source": [
    "print(17 / 3)  # classic division returns a float.\n",
    "print(17 // 3)  # floor division discards the fractional part and returns an integer.\n",
    "print(17 % 3)  # the % print(2 ** 7)  \n",
    "#operator returns the remainder of the division. Output is an integer."
   ]
  },
  {
   "cell_type": "code",
   "execution_count": 18,
   "metadata": {},
   "outputs": [
    {
     "name": "stdout",
     "output_type": "stream",
     "text": [
      "25\n",
      "128\n",
      "2.0\n"
     ]
    }
   ],
   "source": [
    "print(5 ** 2)  # 5 squared\n",
    "print(2 ** 7)  # 2 to the power of 7\n",
    "print(4**(1/2)) # the squareroot of 4. Notice that the result is a float."
   ]
  },
  {
   "cell_type": "markdown",
   "metadata": {},
   "source": [
    "### Numbers in Python\n",
    "\n",
    "- There are two basic types of numbers in python viz., <b>Int & Float</b>\n",
    "- <b>Int is used to store integers. </b>\n",
    "- <b>Float is used to store numbers with decimal points. </b>\n",
    "- The type() function can be used to know the kind of number you are dealing with."
   ]
  },
  {
   "cell_type": "code",
   "execution_count": 19,
   "metadata": {},
   "outputs": [
    {
     "data": {
      "text/plain": [
       "int"
      ]
     },
     "execution_count": 19,
     "metadata": {},
     "output_type": "execute_result"
    }
   ],
   "source": [
    "#type(55)\n",
    "a=10\n",
    "type(a)"
   ]
  },
  {
   "cell_type": "code",
   "execution_count": 20,
   "metadata": {},
   "outputs": [
    {
     "data": {
      "text/plain": [
       "float"
      ]
     },
     "execution_count": 20,
     "metadata": {},
     "output_type": "execute_result"
    }
   ],
   "source": [
    "b=12.34\n",
    "type(b)"
   ]
  },
  {
   "cell_type": "markdown",
   "metadata": {},
   "source": [
    "### Variables\n",
    "\n",
    "##### Variables are names given to data.\n",
    "##### There are certain rules and conventions to follow when choosing a name for a variable.\n",
    "\n",
    "- Variable names can be arbitrarily long.\n",
    "- They can contain both letters and digits, but they have to <b>begin with a letter or an underscore.</b>\n",
    "- Although it is allowed, <b>it is not good practice to begin variable names with uppercase letters.</b>\n",
    "- <b>Do not begin a variable with an underscore</b> as they have a special meaning. So a safe rule for beginners is to <b>start all names with a letter.</b>\n",
    "- The <b>underscore character can appear in a name.</b> It is often used in names with multiple words, eg: <b>price_of_tea_in_china</b>.\n",
    "- <b>If you give a variable an illegal name, you get a syntax error.</b>"
   ]
  },
  {
   "cell_type": "code",
   "execution_count": 26,
   "metadata": {},
   "outputs": [
    {
     "name": "stdout",
     "output_type": "stream",
     "text": [
      "30\n"
     ]
    }
   ],
   "source": [
    "a=10\n",
    "b=20\n",
    "s=a+b\n",
    "print(s)"
   ]
  },
  {
   "cell_type": "markdown",
   "metadata": {},
   "source": [
    "##### '=' is the assignment operator. a = 10 assigns the name 'a' to the value 10."
   ]
  },
  {
   "cell_type": "markdown",
   "metadata": {},
   "source": [
    "Given below is a list of names which are reserved in Python and <b>cannot be used as variable names</b>. They called  keywords or identifiers.\n"
   ]
  },
  {
   "cell_type": "markdown",
   "metadata": {},
   "source": [
    "#### Reserved keywords in Python\n",
    "\n",
    "| _ | _ | _ |\n",
    "|:---:|:---:|---:|\n",
    "|False|class|finally|\n",
    "|is|return|None|\n",
    "|continue|for|lambda|\n",
    "|try|True|def|\n",
    "|from| nonlocal| while|\n",
    "|and|del|global|\n",
    "|not|with|as|\n",
    "|elif|if|or|\n",
    "|yield|assert|else|\n",
    "|import|pass|break|\n",
    "|except|in|raise|\t "
   ]
  },
  {
   "cell_type": "code",
   "execution_count": 30,
   "metadata": {},
   "outputs": [
    {
     "ename": "SyntaxError",
     "evalue": "invalid syntax (<ipython-input-30-ce45c7caa14f>, line 1)",
     "output_type": "error",
     "traceback": [
      "\u001b[1;36m  File \u001b[1;32m\"<ipython-input-30-ce45c7caa14f>\"\u001b[1;36m, line \u001b[1;32m1\u001b[0m\n\u001b[1;33m    del= 10\u001b[0m\n\u001b[1;37m       ^\u001b[0m\n\u001b[1;31mSyntaxError\u001b[0m\u001b[1;31m:\u001b[0m invalid syntax\n"
     ]
    }
   ],
   "source": [
    "del= 10 \n"
   ]
  },
  {
   "cell_type": "markdown",
   "metadata": {},
   "source": [
    "#### Logical operations in Python:\n",
    "\n",
    "|Operator|Description|\n",
    "|:---:|:---:|\n",
    "|==|Equal to|\n",
    "|!=|Not Equal to|\n",
    "|>|Greater than|\n",
    "|<|Less Than|\n",
    "|>=|Greater than or equal to|\n",
    "|<=|Less than or equal to|"
   ]
  },
  {
   "cell_type": "code",
   "execution_count": 33,
   "metadata": {},
   "outputs": [
    {
     "name": "stdout",
     "output_type": "stream",
     "text": [
      "False\n"
     ]
    }
   ],
   "source": [
    "x = 505\n",
    "y = 500\n",
    "print(x == y)"
   ]
  },
  {
   "cell_type": "code",
   "execution_count": 36,
   "metadata": {},
   "outputs": [
    {
     "name": "stdout",
     "output_type": "stream",
     "text": [
      "False\n",
      "True\n",
      "True\n"
     ]
    }
   ],
   "source": [
    "a = 100\n",
    "b = 100\n",
    "print(a != b)\n",
    "print(a >= b)\n",
    "print(a <= b)"
   ]
  },
  {
   "cell_type": "markdown",
   "metadata": {},
   "source": [
    "- We have seen the two basic numeric types.\n",
    "- Python also has logical types.\n",
    "- This type of data is called Boolean.\n",
    "- The two possible Boolean values viz., <b> True & False. </b>"
   ]
  },
  {
   "cell_type": "code",
   "execution_count": 35,
   "metadata": {},
   "outputs": [
    {
     "data": {
      "text/plain": [
       "bool"
      ]
     },
     "execution_count": 35,
     "metadata": {},
     "output_type": "execute_result"
    }
   ],
   "source": [
    "type(a!=b)"
   ]
  },
  {
   "cell_type": "markdown",
   "metadata": {},
   "source": [
    "### Strings"
   ]
  },
  {
   "cell_type": "code",
   "execution_count": 9,
   "metadata": {},
   "outputs": [
    {
     "name": "stdout",
     "output_type": "stream",
     "text": [
      "<class 'str'>\n",
      "Hello Dubai\n"
     ]
    }
   ],
   "source": [
    "word = 'Hello Dubai'\n",
    "\n",
    "# Let us try the type function with some text\n",
    "print(type(word))\n",
    "print(word)"
   ]
  },
  {
   "cell_type": "code",
   "execution_count": 10,
   "metadata": {},
   "outputs": [
    {
     "name": "stdout",
     "output_type": "stream",
     "text": [
      "Hello Dubai\n"
     ]
    }
   ],
   "source": [
    "print(word)"
   ]
  },
  {
   "cell_type": "markdown",
   "metadata": {},
   "source": [
    "##### Strings are use to to store character sequences. \n",
    "- 'Python' is a string of length 6.\n",
    "- Strings always start and end with quotation marks. It can be ' or \". Always start and end with the same type of quotation mark.\n",
    "- Strings have an index which tells you the position of each character.\n",
    "- A string can be indexed forwards and backwards.\n",
    "\n",
    "Take the string 'python'\n",
    "\n",
    "|p|y|t|h|o|n|\n",
    "|:---:|:---:|:---:|:---:|:---:|:---:|\n",
    "|0|1|2|3|4|5|\n",
    "|-6|-5|-4|-3|-2|-1|\n",
    "\n",
    "- Indexing starts from 0.\n",
    "- len() function is used find the length of a sequence."
   ]
  },
  {
   "cell_type": "markdown",
   "metadata": {},
   "source": [
    "##### string1 = \"Data Science\" # string1 is a variable of the type string\n",
    "string2 = \"is interesting\" \n",
    "print(len(string1))     # Prints length of the string\n",
    "print(string1)          # Prints complete string\n",
    "print(string1[0])       # Prints first character of the string1\n",
    "print(string1[-12])      # will print same as above statement \n",
    "print(string1[4:7])     # Prints characters starting from 4th to 6th\n",
    "print(string1[3:])      # Prints string starting from 4th character\n",
    "print(string1[1:-2])    # Prints from second character to the second last character .\n",
    "print(string1 * 3)      # Prints string three times\n",
    "print(string1 +\" \"+ string2) # Two strings can be concatenated using the '+' operator."
   ]
  },
  {
   "cell_type": "code",
   "execution_count": 19,
   "metadata": {},
   "outputs": [
    {
     "data": {
      "text/plain": [
       "'a S'"
      ]
     },
     "execution_count": 19,
     "metadata": {},
     "output_type": "execute_result"
    }
   ],
   "source": [
    "string1[3:6]"
   ]
  },
  {
   "cell_type": "markdown",
   "metadata": {},
   "source": [
    "### Other sequences in python\n",
    "### Lists\n",
    "- A list can store a sequence of objects.\n",
    "- These objects can be of various types.\\"
   ]
  },
  {
   "cell_type": "code",
   "execution_count": 48,
   "metadata": {},
   "outputs": [
    {
     "name": "stdout",
     "output_type": "stream",
     "text": [
      "['Hello', 12, 'world', 11.111, 'Me2']\n"
     ]
    },
    {
     "data": {
      "text/plain": [
       "list"
      ]
     },
     "execution_count": 48,
     "metadata": {},
     "output_type": "execute_result"
    }
   ],
   "source": [
    "mylist = [\"Hello\",12,\"world\",11.111,'Me2'] # A list can have both strings and numbers\n",
    "print(mylist)\n",
    "type(mylist)"
   ]
  },
  {
   "cell_type": "markdown",
   "metadata": {},
   "source": [
    "##### Lists can be indexed in the same way as strings"
   ]
  },
  {
   "cell_type": "code",
   "execution_count": 50,
   "metadata": {},
   "outputs": [
    {
     "name": "stdout",
     "output_type": "stream",
     "text": [
      "Hello\n",
      "[12, 'world']\n",
      "Me2\n"
     ]
    }
   ],
   "source": [
    "print(mylist[0])\n",
    "print(mylist[1:3])\n",
    "print(mylist[-1])\n"
   ]
  },
  {
   "cell_type": "code",
   "execution_count": 51,
   "metadata": {},
   "outputs": [
    {
     "name": "stdout",
     "output_type": "stream",
     "text": [
      "5\n"
     ]
    }
   ],
   "source": [
    "mydata = mylist[0]\n",
    "print(len(mydata))"
   ]
  },
  {
   "cell_type": "markdown",
   "metadata": {},
   "source": [
    "##### Lists can be concatenated like strings "
   ]
  },
  {
   "cell_type": "code",
   "execution_count": 52,
   "metadata": {},
   "outputs": [],
   "source": [
    "a=[1,2,3,4]\n",
    "b=['A','B','C']\n",
    "c=['A',500,'C']"
   ]
  },
  {
   "cell_type": "code",
   "execution_count": 53,
   "metadata": {},
   "outputs": [
    {
     "data": {
      "text/plain": [
       "['A', 'B', 'C', 'A', 500, 'C']"
      ]
     },
     "execution_count": 53,
     "metadata": {},
     "output_type": "execute_result"
    }
   ],
   "source": [
    "b + c"
   ]
  },
  {
   "cell_type": "code",
   "execution_count": 62,
   "metadata": {},
   "outputs": [
    {
     "name": "stdout",
     "output_type": "stream",
     "text": [
      "[1, 2, 3, 4, 'A', 'B', 'C', 'A', 500, 'C']\n"
     ]
    },
    {
     "data": {
      "text/plain": [
       "list"
      ]
     },
     "execution_count": 62,
     "metadata": {},
     "output_type": "execute_result"
    }
   ],
   "source": [
    "abc=a + b + c\n",
    "print(abc)\n",
    "type(abc)"
   ]
  },
  {
   "cell_type": "code",
   "execution_count": 59,
   "metadata": {},
   "outputs": [
    {
     "data": {
      "text/plain": [
       "[1, 20, 3, 4, 'A', 'B', 'C', 'A', 500, 'C']"
      ]
     },
     "execution_count": 59,
     "metadata": {},
     "output_type": "execute_result"
    }
   ],
   "source": [
    "abc[1]=20\n",
    "abc\n"
   ]
  },
  {
   "cell_type": "markdown",
   "metadata": {},
   "source": [
    "### Tuples \n",
    "##### They are very similar to lists"
   ]
  },
  {
   "cell_type": "code",
   "execution_count": 25,
   "metadata": {},
   "outputs": [
    {
     "data": {
      "text/plain": [
       "tuple"
      ]
     },
     "execution_count": 25,
     "metadata": {},
     "output_type": "execute_result"
    }
   ],
   "source": [
    "mytup = ( 'welcome', 21.223, \"hello world\", 70.2  )\n",
    "type(mytup)\n"
   ]
  },
  {
   "cell_type": "code",
   "execution_count": 20,
   "metadata": {},
   "outputs": [],
   "source": [
    "simple_tuple = (1,2, 'bag', 'basket')"
   ]
  },
  {
   "cell_type": "code",
   "execution_count": 21,
   "metadata": {},
   "outputs": [
    {
     "data": {
      "text/plain": [
       "(1, 2, 'bag', 'basket')"
      ]
     },
     "execution_count": 21,
     "metadata": {},
     "output_type": "execute_result"
    }
   ],
   "source": [
    "simple_tuple"
   ]
  },
  {
   "cell_type": "code",
   "execution_count": 32,
   "metadata": {},
   "outputs": [
    {
     "data": {
      "text/plain": [
       "'welcome'"
      ]
     },
     "execution_count": 32,
     "metadata": {},
     "output_type": "execute_result"
    }
   ],
   "source": [
    "new = mytup + simple_tuple\n",
    "type(new)\n",
    "new[0]"
   ]
  },
  {
   "cell_type": "code",
   "execution_count": 27,
   "metadata": {},
   "outputs": [
    {
     "data": {
      "text/plain": [
       "21.223"
      ]
     },
     "execution_count": 27,
     "metadata": {},
     "output_type": "execute_result"
    }
   ],
   "source": [
    "mytup[1]"
   ]
  },
  {
   "cell_type": "markdown",
   "metadata": {},
   "source": [
    "##### How are lists and tuples different?\n",
    " - Elements in a tuple cannot be edited once assigned.\n",
    " - A tuple cannot be appended to or extended in anyway.\n",
    " - A tuple is immutable. \n",
    " - Lists are mutable.\n",
    " - You can expand lists to include more objects.\n",
    " - Tuples are indexed similar to lists"
   ]
  },
  {
   "cell_type": "code",
   "execution_count": 64,
   "metadata": {},
   "outputs": [
    {
     "name": "stdout",
     "output_type": "stream",
     "text": [
      "welcome\n",
      "(21.223, 'hello world', 70.2)\n",
      "21.223\n"
     ]
    }
   ],
   "source": [
    "print(mytup[0])\n",
    "print(mytup[1:4])\n",
    "print(mytup[-3])"
   ]
  },
  {
   "cell_type": "markdown",
   "metadata": {},
   "source": [
    "### Dictionaries\n",
    "\n",
    "- A dictionary is a type of collection which consists of key, value pairs.\n",
    "- The keys and values can be of any type.\n",
    "- A dictionary is indexed through the keys."
   ]
  },
  {
   "cell_type": "code",
   "execution_count": 69,
   "metadata": {
    "scrolled": true
   },
   "outputs": [
    {
     "name": "stdout",
     "output_type": "stream",
     "text": [
      "{'JJ': 'jackson', 'DD': 50, 'EE': 44, '007': 'James Bond'}\n",
      "James Bond\n"
     ]
    }
   ],
   "source": [
    "ex_di={'JJ':'jackson','DD':50,'EE':44, '007':\"James Bond\"}\n",
    "print(ex_di)\n",
    "print(ex_di['007']) # a dictionary is indexed through the assigned keys"
   ]
  },
  {
   "cell_type": "code",
   "execution_count": 37,
   "metadata": {},
   "outputs": [
    {
     "data": {
      "text/plain": [
       "10"
      ]
     },
     "execution_count": 37,
     "metadata": {},
     "output_type": "execute_result"
    }
   ],
   "source": [
    "my_dictionary = {'Apple': [10,23,45] , 'Banana' : 15, 'Orange' : 25}\n",
    "my_dictionary\n",
    "\n",
    "len(my_dictionary)\n",
    "my_dictionary['Apple'][0]"
   ]
  },
  {
   "cell_type": "code",
   "execution_count": 41,
   "metadata": {},
   "outputs": [
    {
     "data": {
      "text/plain": [
       "list"
      ]
     },
     "execution_count": 41,
     "metadata": {},
     "output_type": "execute_result"
    }
   ],
   "source": [
    "my_dictionary['Banana'] = [1,14,13]\n",
    "type(my_dictionary['Banana'])"
   ]
  },
  {
   "cell_type": "code",
   "execution_count": 45,
   "metadata": {},
   "outputs": [
    {
     "name": "stdout",
     "output_type": "stream",
     "text": [
      "There are 25 oranges\n"
     ]
    }
   ],
   "source": [
    "type(my_dictionary['Orange'])\n",
    "\n",
    "print('There are', my_dictionary['Orange'], 'oranges')"
   ]
  },
  {
   "cell_type": "code",
   "execution_count": 43,
   "metadata": {},
   "outputs": [
    {
     "name": "stdout",
     "output_type": "stream",
     "text": [
      "{'AA': 50, 'BB': 90, 'CC': 20}\n",
      "20\n"
     ]
    }
   ],
   "source": [
    "ex_di={'AA':50,'BB':90,'CC':20}\n",
    "print(ex_di)\n",
    "print(ex_di['CC'])"
   ]
  },
  {
   "cell_type": "code",
   "execution_count": 72,
   "metadata": {},
   "outputs": [
    {
     "name": "stdout",
     "output_type": "stream",
     "text": [
      "007 is  James Bond\n"
     ]
    }
   ],
   "source": [
    "print(\"007 is \",ex_di['007'])"
   ]
  },
  {
   "cell_type": "code",
   "execution_count": null,
   "metadata": {},
   "outputs": [],
   "source": [
    "ex_di."
   ]
  },
  {
   "cell_type": "markdown",
   "metadata": {},
   "source": [
    "#### More on lists"
   ]
  },
  {
   "cell_type": "code",
   "execution_count": 74,
   "metadata": {
    "scrolled": true
   },
   "outputs": [
    {
     "data": {
      "text/plain": [
       "6"
      ]
     },
     "execution_count": 74,
     "metadata": {},
     "output_type": "execute_result"
    }
   ],
   "source": [
    "mylist = ['Bangalore', 'Delhi', 'Chennai', 2000, 3400.56, \"Cool\"]\n",
    "len(mylist) # returns the length of the list"
   ]
  },
  {
   "cell_type": "markdown",
   "metadata": {},
   "source": [
    "**Q1. (In class exercise)** Print the last element of the list"
   ]
  },
  {
   "cell_type": "code",
   "execution_count": 83,
   "metadata": {},
   "outputs": [
    {
     "data": {
      "text/plain": [
       "'Cool'"
      ]
     },
     "execution_count": 83,
     "metadata": {},
     "output_type": "execute_result"
    }
   ],
   "source": [
    "mylist[-1]"
   ]
  },
  {
   "cell_type": "code",
   "execution_count": 85,
   "metadata": {},
   "outputs": [
    {
     "name": "stdout",
     "output_type": "stream",
     "text": [
      "3400.56\n"
     ]
    }
   ],
   "source": [
    "print(mylist[-2])"
   ]
  },
  {
   "cell_type": "markdown",
   "metadata": {},
   "source": [
    "##### Removing items from a list\n",
    "\n",
    "An object can be removed from a list by using del() function."
   ]
  },
  {
   "cell_type": "code",
   "execution_count": 86,
   "metadata": {},
   "outputs": [
    {
     "name": "stdout",
     "output_type": "stream",
     "text": [
      "['Bangalore', 'Delhi', 'Chennai', 2000, 3400.56]\n"
     ]
    }
   ],
   "source": [
    "del(mylist[5])\n",
    "print(mylist)"
   ]
  },
  {
   "cell_type": "markdown",
   "metadata": {},
   "source": [
    "A list has builtin methods to remove elements. "
   ]
  },
  {
   "cell_type": "code",
   "execution_count": 47,
   "metadata": {},
   "outputs": [
    {
     "name": "stdout",
     "output_type": "stream",
     "text": [
      "['Hello', 2, 3, 2, 2, 'world']\n"
     ]
    }
   ],
   "source": [
    "newlist = [\"Hello\",2,3,2,'world',2,'world']\n",
    "newlist.remove('world')\n",
    "print(newlist)"
   ]
  },
  {
   "cell_type": "code",
   "execution_count": 48,
   "metadata": {},
   "outputs": [
    {
     "name": "stdout",
     "output_type": "stream",
     "text": [
      "['Hello', 2, 3, 2, 2]\n"
     ]
    }
   ],
   "source": [
    "newlist.remove('world')\n",
    "print(newlist)"
   ]
  },
  {
   "cell_type": "code",
   "execution_count": 55,
   "metadata": {},
   "outputs": [],
   "source": [
    "newlist.reverse()"
   ]
  },
  {
   "cell_type": "code",
   "execution_count": 62,
   "metadata": {},
   "outputs": [],
   "source": [
    "newlist.remove(2)"
   ]
  },
  {
   "cell_type": "code",
   "execution_count": 63,
   "metadata": {},
   "outputs": [
    {
     "data": {
      "text/plain": [
       "['Hello', 3]"
      ]
     },
     "execution_count": 63,
     "metadata": {},
     "output_type": "execute_result"
    }
   ],
   "source": [
    "newlist"
   ]
  },
  {
   "cell_type": "markdown",
   "metadata": {},
   "source": [
    "**Note:** Only the first matching entry is removed"
   ]
  },
  {
   "cell_type": "markdown",
   "metadata": {},
   "source": [
    "##### Join two lists\n",
    "\n",
    "- Two lists can be joined using the '+' operator.\n",
    "- This is also called concatenation."
   ]
  },
  {
   "cell_type": "code",
   "execution_count": 64,
   "metadata": {},
   "outputs": [
    {
     "name": "stdout",
     "output_type": "stream",
     "text": [
      "[1, 2, 3, 1, 3, 3, 3, 'a', 'b', 'a', 'a']\n"
     ]
    }
   ],
   "source": [
    "l1 = [1,2,3,1,3,3,3]\n",
    "l2 =['a','b','a','a']\n",
    "l3 = l1+l2\n",
    "print(l3)"
   ]
  },
  {
   "cell_type": "markdown",
   "metadata": {},
   "source": [
    "##### Checking for an element in the list"
   ]
  },
  {
   "cell_type": "code",
   "execution_count": 65,
   "metadata": {},
   "outputs": [
    {
     "data": {
      "text/plain": [
       "False"
      ]
     },
     "execution_count": 65,
     "metadata": {},
     "output_type": "execute_result"
    }
   ],
   "source": [
    "k=5\n",
    "k in l3 # the 'in' statement checks whether an element is prmesent in the list."
   ]
  },
  {
   "cell_type": "code",
   "execution_count": 66,
   "metadata": {},
   "outputs": [
    {
     "data": {
      "text/plain": [
       "3"
      ]
     },
     "execution_count": 66,
     "metadata": {},
     "output_type": "execute_result"
    }
   ],
   "source": [
    "l3.count('a')"
   ]
  },
  {
   "cell_type": "code",
   "execution_count": null,
   "metadata": {},
   "outputs": [],
   "source": [
    "l3."
   ]
  },
  {
   "cell_type": "markdown",
   "metadata": {},
   "source": [
    "##### Max and min\n",
    "\n",
    "We can check the maximum and minimum value in a list by using the max() and min() functions."
   ]
  },
  {
   "cell_type": "code",
   "execution_count": 68,
   "metadata": {},
   "outputs": [
    {
     "name": "stdout",
     "output_type": "stream",
     "text": [
      "3\n",
      "1\n",
      "6\n"
     ]
    }
   ],
   "source": [
    "l1=[1,2,3]\n",
    "print(max(l1))\n",
    "print(min(l1))\n",
    "print(sum(l1))"
   ]
  },
  {
   "cell_type": "markdown",
   "metadata": {},
   "source": [
    "**NOTE:** The max() and min() functions will not work for strings in a list. It will only consider the numeric data."
   ]
  },
  {
   "cell_type": "markdown",
   "metadata": {},
   "source": [
    "##### The .pop() method\n",
    "The .pop() method moves and element out of the list."
   ]
  },
  {
   "cell_type": "code",
   "execution_count": 96,
   "metadata": {},
   "outputs": [
    {
     "name": "stdout",
     "output_type": "stream",
     "text": [
      "[1, 2, 4]\n",
      "The popped out item from the list is  3\n"
     ]
    }
   ],
   "source": [
    "l1 = [1,2,3,4]\n",
    "res=l1.pop(2) # here the argument refers to the positional value\n",
    "print(l1)\n",
    "print(\"The popped out item from the list is \",res)"
   ]
  },
  {
   "cell_type": "markdown",
   "metadata": {},
   "source": [
    "# To know the difference between pop, del and remove, read the below link ! \n",
    "https://stackoverflow.com/questions/11520492/difference-between-del-remove-and-pop-on-lists"
   ]
  },
  {
   "cell_type": "markdown",
   "metadata": {},
   "source": [
    "##### Inserting a new value into a list"
   ]
  },
  {
   "cell_type": "code",
   "execution_count": 69,
   "metadata": {},
   "outputs": [
    {
     "name": "stdout",
     "output_type": "stream",
     "text": [
      "[1, 101, 'b', 3, 4, 'x']\n"
     ]
    }
   ],
   "source": [
    "l1 = [1,'b',3,4,'x']\n",
    "l1.insert(1,101) #101 will be inserted into the first position of the list and \n",
    "print(l1)"
   ]
  },
  {
   "cell_type": "markdown",
   "metadata": {},
   "source": [
    "##### Appending an element to a list \n",
    "Append adds an element to the end of a list"
   ]
  },
  {
   "cell_type": "code",
   "execution_count": 99,
   "metadata": {},
   "outputs": [
    {
     "name": "stdout",
     "output_type": "stream",
     "text": [
      "[1, 2, 3, 4, 500]\n"
     ]
    }
   ],
   "source": [
    "l1 = [1,2,3,4]\n",
    "l1.append(500)\n",
    "print(l1)"
   ]
  },
  {
   "cell_type": "markdown",
   "metadata": {},
   "source": [
    "##### Sorting a list\n",
    "Lists have a sort method which reorders the list based on the values it contains."
   ]
  },
  {
   "cell_type": "code",
   "execution_count": 101,
   "metadata": {},
   "outputs": [
    {
     "name": "stdout",
     "output_type": "stream",
     "text": [
      "[-1, 0, 1, 23, 45]\n"
     ]
    }
   ],
   "source": [
    "l2=[23,1,0,45,-1]\n",
    "l2.sort()\n",
    "print(l2)"
   ]
  },
  {
   "cell_type": "markdown",
   "metadata": {},
   "source": [
    "Python also has a function sorted() which can sort the elements of a list."
   ]
  },
  {
   "cell_type": "code",
   "execution_count": 102,
   "metadata": {
    "scrolled": true
   },
   "outputs": [
    {
     "name": "stdout",
     "output_type": "stream",
     "text": [
      "[-1, 0, 1, 23, 45]\n",
      "[23, 1, 0, 45, -1]\n"
     ]
    }
   ],
   "source": [
    "l2=[23,1,0,45,-1]\n",
    "print(sorted(l2))\n",
    "print(l2)"
   ]
  },
  {
   "cell_type": "markdown",
   "metadata": {},
   "source": [
    "# Note :There is a difference between the sort() and sorted() function ! "
   ]
  },
  {
   "cell_type": "markdown",
   "metadata": {},
   "source": [
    "### Conditional statements\n",
    "- if, else and elif"
   ]
  },
  {
   "cell_type": "code",
   "execution_count": 1,
   "metadata": {},
   "outputs": [
    {
     "name": "stdout",
     "output_type": "stream",
     "text": [
      "Value of a is  10\n",
      "Inside the else block\n",
      "I am done with my if and else\n"
     ]
    }
   ],
   "source": [
    "a = 10\n",
    "b = 33\n",
    "if ( a == 10 and b == 30) : \n",
    "    print(\"Value of a is \",a)\n",
    "    print(\"Inside the if block\")\n",
    "else : \n",
    "    print(\"Value of a is \",a)\n",
    "    print(\"Inside the else block\")\n",
    "    \n",
    "print(\"I am done with my if and else\")"
   ]
  },
  {
   "cell_type": "code",
   "execution_count": 8,
   "metadata": {},
   "outputs": [
    {
     "name": "stdout",
     "output_type": "stream",
     "text": [
      "You are underqualified to immigrate to Australia due to UG\n",
      " I am out of all if , elif and else blocks\n"
     ]
    }
   ],
   "source": [
    "age = 39\n",
    "qualification = \"UG\"\n",
    "maritial_status = \"unmarried\" \n",
    "\n",
    "\n",
    "\n",
    "\n",
    "\n",
    "\n",
    "if(age < 35 and qualification == \"PG\" and maritial_status == \"married\"):\n",
    "    print(\"you qualify for Australian immigration\")\n",
    "\n",
    "\n",
    "elif(qualification == 'UG'):\n",
    "    print(\"You are underqualified to immigrate to Australia due to UG\")\n",
    "\n",
    "    \n",
    "    \n",
    "elif(age > 35 or qualification == 'UG'):\n",
    "    print('*************')\n",
    "    if(age > 35 and qualification != 'PG'):\n",
    "        print(\"both age bar and underqualified\")\n",
    "        \n",
    "\n",
    "        \n",
    "\n",
    "elif(maritial_status != \"married\"):\n",
    "    print(\"You have failed the maritial qualification, no eligible for immigration\") \n",
    "    \n",
    "print(\" I am out of all if , elif and else blocks\")"
   ]
  },
  {
   "cell_type": "code",
   "execution_count": null,
   "metadata": {},
   "outputs": [],
   "source": []
  },
  {
   "cell_type": "code",
   "execution_count": null,
   "metadata": {},
   "outputs": [],
   "source": []
  }
 ],
 "metadata": {
  "kernelspec": {
   "display_name": "Python 3",
   "language": "python",
   "name": "python3"
  },
  "language_info": {
   "codemirror_mode": {
    "name": "ipython",
    "version": 3
   },
   "file_extension": ".py",
   "mimetype": "text/x-python",
   "name": "python",
   "nbconvert_exporter": "python",
   "pygments_lexer": "ipython3",
   "version": "3.8.3"
  }
 },
 "nbformat": 4,
 "nbformat_minor": 4
}
