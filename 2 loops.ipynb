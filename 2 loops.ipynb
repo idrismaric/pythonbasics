{
 "cells": [
  {
   "cell_type": "markdown",
   "metadata": {},
   "source": [
    "## Looping in Python\n",
    "\n",
    "### The For loop"
   ]
  },
  {
   "cell_type": "code",
   "execution_count": 3,
   "metadata": {},
   "outputs": [
    {
     "data": {
      "text/plain": [
       "7"
      ]
     },
     "execution_count": 3,
     "metadata": {},
     "output_type": "execute_result"
    }
   ],
   "source": [
    "mynames = [\"Joe\",\"Zoe\",\"Brad\",\"Angelina\",\"Zuki\",\"Tom\",\"Paris\"]\n",
    "len(mynames)"
   ]
  },
  {
   "cell_type": "code",
   "execution_count": 2,
   "metadata": {},
   "outputs": [
    {
     "name": "stdout",
     "output_type": "stream",
     "text": [
      "Joe\n",
      "Zoe\n"
     ]
    }
   ],
   "source": [
    "print(mynames[0])\n",
    "print(mynames[1])"
   ]
  },
  {
   "cell_type": "code",
   "execution_count": 6,
   "metadata": {},
   "outputs": [
    {
     "name": "stdout",
     "output_type": "stream",
     "text": [
      "Hi Joe, Good morning ! \n",
      "Hi Zoe, Good morning ! \n",
      "Hi Brad, Good morning ! \n",
      "Hi Angelina, Good morning ! \n",
      "Hi Zuki, Good morning ! \n",
      "Hi Tom, Good morning ! \n",
      "Hi Paris, Good morning ! \n"
     ]
    }
   ],
   "source": [
    "mynames = [\"Joe\",\"Zoe\",\"Brad\",\"Angelina\",\"Zuki\",\"Tom\",\"Paris\"]\n",
    "for name in mynames :\n",
    "    invite = \"Hi \" + name + \", Good morning ! \"\n",
    "    print(invite)"
   ]
  },
  {
   "cell_type": "code",
   "execution_count": 9,
   "metadata": {},
   "outputs": [
    {
     "name": "stdout",
     "output_type": "stream",
     "text": [
      "Hi Joe, Good morning!\n",
      "Hi Zoe, Good morning!\n",
      "Hi Brad, Good morning!\n",
      "Hi Angelina, Good morning!\n",
      "Hi Zuki, Good morning!\n",
      "Hi Tom, Good morning!\n",
      "Hi Paris, Good morning!\n"
     ]
    }
   ],
   "source": [
    "for name in mynames:\n",
    "    print(\"Hi\" + \" \" + name + \", Good morning!\")"
   ]
  },
  {
   "cell_type": "code",
   "execution_count": 2,
   "metadata": {},
   "outputs": [
    {
     "name": "stdout",
     "output_type": "stream",
     "text": [
      "23\n",
      "1\n",
      "0\n",
      "12\n",
      "45\n",
      "-1\n",
      "46\n",
      "I am done with my for loop\n"
     ]
    }
   ],
   "source": [
    "l2=[23,1,0,12,45,-1,46]\n",
    "\n",
    "for x in l2 :\n",
    "    print(x)\n",
    "\n",
    "print(\"I am done with my for loop\")"
   ]
  },
  {
   "cell_type": "code",
   "execution_count": 3,
   "metadata": {},
   "outputs": [
    {
     "name": "stdout",
     "output_type": "stream",
     "text": [
      "hello world\n",
      "hello world\n",
      "hello world\n",
      "hello world\n",
      "hello world\n",
      "hello world\n",
      "hello world\n"
     ]
    }
   ],
   "source": [
    "for x in l2:\n",
    "    print(\"hello world\")"
   ]
  },
  {
   "cell_type": "code",
   "execution_count": 10,
   "metadata": {},
   "outputs": [
    {
     "name": "stdout",
     "output_type": "stream",
     "text": [
      "Hello\n",
      "Hello\n",
      "Hello\n",
      "Hello\n",
      "Hello\n",
      "Hello\n",
      "Hello\n"
     ]
    }
   ],
   "source": [
    "for x in mynames:\n",
    "    print('Hello')"
   ]
  },
  {
   "cell_type": "code",
   "execution_count": 4,
   "metadata": {},
   "outputs": [
    {
     "name": "stdout",
     "output_type": "stream",
     "text": [
      "100  is even number\n"
     ]
    }
   ],
   "source": [
    "# The following code snippet is to check if a number is divisible by 2.\n",
    "a = 100 # try different values for a\n",
    "if(a % 2 == 0) :   # checks if the remainder is zero when divided by 2 \n",
    "    print(a,\" is even number\")\n",
    "else:\n",
    "    print(a,\" is odd number\") "
   ]
  },
  {
   "cell_type": "code",
   "execution_count": 21,
   "metadata": {},
   "outputs": [],
   "source": [
    "a = 100"
   ]
  },
  {
   "cell_type": "code",
   "execution_count": 17,
   "metadata": {},
   "outputs": [
    {
     "data": {
      "text/plain": [
       "True"
      ]
     },
     "execution_count": 17,
     "metadata": {},
     "output_type": "execute_result"
    }
   ],
   "source": [
    "a == 100"
   ]
  },
  {
   "cell_type": "markdown",
   "metadata": {},
   "source": [
    "**Q1.(In class lab exercise)** Write a modified version of the code given above so that a message is printed only if the number is even."
   ]
  },
  {
   "cell_type": "code",
   "execution_count": 22,
   "metadata": {},
   "outputs": [
    {
     "name": "stdout",
     "output_type": "stream",
     "text": [
      "100 is even number\n"
     ]
    }
   ],
   "source": [
    "if (a%2 == 0):\n",
    "    print(a, 'is even number')"
   ]
  },
  {
   "cell_type": "code",
   "execution_count": 31,
   "metadata": {},
   "outputs": [
    {
     "name": "stdout",
     "output_type": "stream",
     "text": [
      "1 has been added to the list\n",
      "3 has been added to the list\n",
      "5 has been added to the list\n",
      "7 has been added to the list\n",
      "[1, 3, 5, 7]\n",
      "4\n"
     ]
    }
   ],
   "source": [
    "el =[]\n",
    "myl = [1,2,3,4,5,6,7,8,10]\n",
    "count = 0\n",
    "\n",
    "for x in myl :\n",
    "    if(x %2 != 0):\n",
    "        el.append(x)\n",
    "        count =  count + 1\n",
    "        print(x, 'has been added to the list')\n",
    "print(el)\n",
    "print(count)\n"
   ]
  },
  {
   "cell_type": "code",
   "execution_count": 33,
   "metadata": {},
   "outputs": [
    {
     "name": "stdout",
     "output_type": "stream",
     "text": [
      "[1, 2, 3, 4, 5, 6, 7, 8, 10]\n",
      "The total number of even nos is  5\n"
     ]
    }
   ],
   "source": [
    "print(myl)\n",
    "count = 0 \n",
    "for num in myl:\n",
    "    if(num % 2 == 0):\n",
    "         count=count + 1 \n",
    "\n",
    "print(\"The total number of even nos is \",count)            "
   ]
  },
  {
   "cell_type": "code",
   "execution_count": null,
   "metadata": {},
   "outputs": [],
   "source": []
  },
  {
   "cell_type": "markdown",
   "metadata": {},
   "source": [
    "**Q2. (In class lab exercise)** Modify the *if* condition in the code given using the '!=' operator and print if a number is odd."
   ]
  },
  {
   "cell_type": "code",
   "execution_count": 9,
   "metadata": {},
   "outputs": [
    {
     "name": "stdout",
     "output_type": "stream",
     "text": [
      "[1, 2, 3, 4, 5, 6, 7, 8, 10]\n",
      "1\n",
      "3\n",
      "5\n",
      "7\n"
     ]
    }
   ],
   "source": [
    "print(myl)\n",
    "#count = 0 \n",
    "for num in myl:\n",
    "    if(num % 2 != 0):\n",
    "         #count=count + 1\n",
    "        print(num)\n",
    "\n",
    "#print(\"The total number of even nos is \",count)  "
   ]
  },
  {
   "cell_type": "markdown",
   "metadata": {},
   "source": [
    "### Breaking out of a loop\n",
    "The break statement can be used to halt and exit a loop"
   ]
  },
  {
   "cell_type": "code",
   "execution_count": 16,
   "metadata": {},
   "outputs": [
    {
     "name": "stdout",
     "output_type": "stream",
     "text": [
      "Hello world\n",
      "Hello world\n",
      "Hello world\n",
      "Hello world\n",
      "I have exited the loop\n"
     ]
    }
   ],
   "source": [
    "count = 0 \n",
    "myl = [1,2,3,4,5,6,7,8]\n",
    "for x in myl: \n",
    "    print(\"Hello world\")\n",
    "    if(x%2==0):\n",
    "        count=count+1\n",
    "    if(count==2):\n",
    "        break #Break statement will exit the loop block even though the loop can run 8 times\n",
    "print(\"I have exited the loop\")"
   ]
  },
  {
   "cell_type": "code",
   "execution_count": 19,
   "metadata": {},
   "outputs": [
    {
     "name": "stdout",
     "output_type": "stream",
     "text": [
      "2\n",
      "4\n"
     ]
    }
   ],
   "source": [
    "# Write a program to print only the first 2 even numbers in the list \n",
    "\n",
    "count = 0 \n",
    "myl = [1,2,3,4,5,6,7,8]\n",
    "for x in myl: \n",
    "    if(x%2==0):\n",
    "        count=count+1\n",
    "        print(x)\n",
    "    if(count==2):\n",
    "        break #Break statement will exit the loop block even though the loop can run 8 times\n"
   ]
  },
  {
   "cell_type": "code",
   "execution_count": 35,
   "metadata": {},
   "outputs": [
    {
     "name": "stdout",
     "output_type": "stream",
     "text": [
      "[1, 2, 3, 4, 5, 6, 7, 8, 9, 10, 11, 12, 13, 14, 15, 16, 17, 18, 19, 20, 21, 22, 23, 24, 25, 26, 27, 28, 29]\n",
      "[2, 4, 6, 8, 10]\n"
     ]
    }
   ],
   "source": [
    "newlist = []\n",
    "count = 0 \n",
    "data = list(range(1,30))\n",
    "print(data)\n",
    "for x in data: \n",
    "    if(x%2==0):\n",
    "        count = count+1\n",
    "        newlist.append(x)\n",
    "        #outside the if block but inside the for block\n",
    "    if(count==5):\n",
    "        break\n",
    "    \n",
    "    \n",
    "print(newlist)"
   ]
  },
  {
   "cell_type": "code",
   "execution_count": 34,
   "metadata": {},
   "outputs": [
    {
     "data": {
      "text/plain": [
       "list"
      ]
     },
     "execution_count": 34,
     "metadata": {},
     "output_type": "execute_result"
    }
   ],
   "source": [
    "data = list(range(1,30))\n",
    "type(data)"
   ]
  },
  {
   "cell_type": "markdown",
   "metadata": {},
   "source": [
    "**Q3.(In class lab exercise)** Modify the above program to print the first 2 even numbers from the list ."
   ]
  },
  {
   "cell_type": "code",
   "execution_count": 3,
   "metadata": {},
   "outputs": [
    {
     "name": "stdout",
     "output_type": "stream",
     "text": [
      "2\n",
      "4\n",
      "I have exited the loop\n"
     ]
    }
   ],
   "source": [
    "count = 0 \n",
    "myl = [1,2,3,4,5,6,7,8]\n",
    "for x in myl: \n",
    "    \n",
    "    if(x%2==0):\n",
    "        count=count+1\n",
    "        print(x)\n",
    "        \n",
    "    if(count==2):\n",
    "        break #Break statement will exit the loop block even though the loop can run 8 times\n",
    "print(\"I have exited the loop\")"
   ]
  },
  {
   "cell_type": "markdown",
   "metadata": {},
   "source": [
    "**Q4.(In class lab exercise)** Pick the first 2 even numbers and last 2 odd numbers from the list \"myl\" and store the numbers in a new list and display the new list contents seperately to the user (Hint: Use append() function to add elements to a list) "
   ]
  },
  {
   "cell_type": "code",
   "execution_count": 6,
   "metadata": {},
   "outputs": [
    {
     "data": {
      "text/plain": [
       "8"
      ]
     },
     "execution_count": 6,
     "metadata": {},
     "output_type": "execute_result"
    }
   ],
   "source": [
    "myl[-1]"
   ]
  },
  {
   "cell_type": "markdown",
   "metadata": {},
   "source": [
    "**Q5.(In class lab exercise)** Print the last 2 odd numbers from the list myl (Note: Do not reverse the list or use a new list)"
   ]
  },
  {
   "cell_type": "code",
   "execution_count": 38,
   "metadata": {},
   "outputs": [
    {
     "name": "stdout",
     "output_type": "stream",
     "text": [
      "2\n",
      "4\n",
      "6\n",
      "8\n",
      "10\n",
      "12\n",
      "14\n",
      "16\n",
      "18\n",
      "20\n"
     ]
    }
   ],
   "source": [
    "start =  1 \n",
    "count =  0 \n",
    "while(count<10):\n",
    "    if(start%2 == 0):\n",
    "        print(start)\n",
    "        count=count+1\n",
    "        \n",
    "        \n",
    "    start=start+1    "
   ]
  },
  {
   "cell_type": "markdown",
   "metadata": {},
   "source": [
    "### The while loop"
   ]
  },
  {
   "cell_type": "code",
   "execution_count": 40,
   "metadata": {},
   "outputs": [
    {
     "name": "stdout",
     "output_type": "stream",
     "text": [
      "hello world\n",
      "hello world\n",
      "hello world\n",
      "hello world\n",
      "hello world\n",
      "hello world\n",
      "hello world\n",
      "hello world\n",
      "hello world\n",
      "hello world\n"
     ]
    }
   ],
   "source": [
    "# Print \"Hello world\" 10 times \n",
    "count = 1\n",
    "while(count <=10) :\n",
    "    print(\"hello world\")\n",
    "    count = count + 1"
   ]
  },
  {
   "cell_type": "code",
   "execution_count": 2,
   "metadata": {},
   "outputs": [
    {
     "name": "stdout",
     "output_type": "stream",
     "text": [
      "7\n",
      "14\n",
      "21\n",
      "28\n",
      "35\n",
      "42\n",
      "49\n",
      "56\n",
      "63\n",
      "70\n",
      "77\n",
      "84\n",
      "91\n",
      "98\n",
      "105\n",
      "112\n",
      "119\n",
      "126\n",
      "133\n",
      "140\n",
      "147\n",
      "154\n",
      "161\n",
      "168\n",
      "175\n",
      "182\n"
     ]
    }
   ],
   "source": [
    "# Print the first 25 multiple of 7 numbers \n",
    "\n",
    "count = 0 \n",
    "start = 1\n",
    "while(count<=25):\n",
    "    if(start%7==0):\n",
    "        count=count+1\n",
    "        print(start)\n",
    "        \n",
    "    start = start + 1 \n",
    "    "
   ]
  },
  {
   "cell_type": "markdown",
   "metadata": {},
   "source": [
    "**Q6.(In class lab exercise)** What is the significance of incrementing the count variable? What will happen if you ignore this step?"
   ]
  },
  {
   "cell_type": "code",
   "execution_count": null,
   "metadata": {},
   "outputs": [],
   "source": [
    "The significance of increamenting the count variable, it will iterate the loop and would not count further\n",
    "            \n",
    "        \n",
    "    "
   ]
  },
  {
   "cell_type": "code",
   "execution_count": 23,
   "metadata": {},
   "outputs": [
    {
     "name": "stdout",
     "output_type": "stream",
     "text": [
      "556\n",
      "558\n",
      "560\n",
      "562\n",
      "564\n",
      "566\n",
      "568\n",
      "570\n",
      "572\n",
      "574\n",
      "576\n",
      "578\n",
      "580\n",
      "582\n",
      "584\n",
      "586\n",
      "588\n",
      "590\n",
      "592\n",
      "594\n",
      "596\n",
      "598\n",
      "600\n",
      "602\n",
      "604\n",
      "606\n",
      "608\n",
      "610\n",
      "612\n",
      "614\n",
      "616\n",
      "618\n",
      "620\n",
      "622\n",
      "624\n",
      "626\n",
      "628\n",
      "630\n",
      "632\n",
      "634\n",
      "636\n",
      "638\n",
      "640\n",
      "642\n",
      "644\n",
      "646\n",
      "648\n",
      "650\n",
      "652\n",
      "654\n",
      "656\n",
      "658\n",
      "660\n",
      "662\n",
      "664\n",
      "666\n",
      "668\n",
      "670\n",
      "672\n",
      "674\n",
      "676\n",
      "678\n",
      "680\n",
      "682\n",
      "684\n",
      "686\n",
      "688\n",
      "690\n",
      "692\n",
      "694\n",
      "696\n",
      "698\n",
      "700\n",
      "702\n",
      "704\n",
      "706\n",
      "708\n",
      "710\n",
      "712\n",
      "714\n",
      "716\n",
      "718\n",
      "720\n",
      "722\n",
      "724\n",
      "726\n",
      "728\n",
      "730\n",
      "732\n",
      "734\n",
      "736\n",
      "738\n",
      "740\n",
      "742\n",
      "744\n",
      "746\n",
      "748\n",
      "750\n",
      "752\n",
      "754\n",
      "756\n",
      "758\n",
      "760\n",
      "762\n",
      "764\n",
      "766\n",
      "768\n",
      "770\n",
      "772\n",
      "774\n",
      "776\n"
     ]
    }
   ],
   "source": [
    "start = 555\n",
    "end = 777\n",
    "while(start <= end):\n",
    "    \n",
    "    if(start%2==0):\n",
    "        print(start)\n",
    "    \n",
    "    #inside the while block but outside the if block \n",
    "    start=start+1\n",
    "\n",
    "\n",
    "\n"
   ]
  },
  {
   "cell_type": "markdown",
   "metadata": {},
   "source": [
    "**Q7.(In class lab exercise)** Modify the above program to print hello world only 5 times , without changing the while(count<= 10)"
   ]
  },
  {
   "cell_type": "code",
   "execution_count": 5,
   "metadata": {},
   "outputs": [
    {
     "name": "stdout",
     "output_type": "stream",
     "text": [
      "hello world\n",
      "hello world\n",
      "hello world\n",
      "hello world\n",
      "hello world\n"
     ]
    }
   ],
   "source": [
    "count = 1\n",
    "start = 1\n",
    "while(count <=10) :\n",
    "    if count%2==0:\n",
    "        print(\"hello world\")\n",
    "    count=count+1\n",
    "    #start = start + 1\n",
    "         \n",
    "    "
   ]
  },
  {
   "cell_type": "markdown",
   "metadata": {},
   "source": [
    "**Q8.(In class lab exercise)** Write a program to print the first 10 odd numbers "
   ]
  },
  {
   "cell_type": "code",
   "execution_count": 20,
   "metadata": {},
   "outputs": [
    {
     "name": "stdout",
     "output_type": "stream",
     "text": [
      "1\n",
      "3\n",
      "5\n",
      "7\n",
      "9\n",
      "11\n",
      "13\n",
      "15\n",
      "17\n",
      "19\n"
     ]
    }
   ],
   "source": [
    "count = 1\n",
    "start = 0\n",
    "\n",
    "while (count<=10):\n",
    "    if (start%2 != 0):\n",
    "        print(start)\n",
    "        count = count + 1\n",
    "    start = start + 1\n",
    "    \n"
   ]
  },
  {
   "cell_type": "code",
   "execution_count": 8,
   "metadata": {},
   "outputs": [
    {
     "name": "stdout",
     "output_type": "stream",
     "text": [
      "10\n"
     ]
    }
   ],
   "source": [
    "mydata = [1,2,3,4]\n",
    "mysum = 0 \n",
    "for x in mydata:\n",
    "   mysum=mysum+x\n",
    " \n",
    "print(mysum) "
   ]
  },
  {
   "cell_type": "markdown",
   "metadata": {},
   "source": [
    "**Q9.(In class lab exercise)** Write a a program to find the sum of first 50 natural numbers starting from 1"
   ]
  },
  {
   "cell_type": "code",
   "execution_count": 9,
   "metadata": {},
   "outputs": [
    {
     "name": "stdout",
     "output_type": "stream",
     "text": [
      "1275\n"
     ]
    }
   ],
   "source": [
    "start = 1\n",
    "count = 0 \n",
    "mysum = 0 \n",
    "while(count < 50):\n",
    "    mysum=mysum+start\n",
    "    start=start+1\n",
    "    count=count+1\n",
    "    \n",
    "print(mysum)    "
   ]
  },
  {
   "cell_type": "markdown",
   "metadata": {},
   "source": [
    "**Q10.** (In class lab exercise) Write a program to to find the sum of all the numbers between 555 and 1111 which are divisible by 7"
   ]
  },
  {
   "cell_type": "code",
   "execution_count": 17,
   "metadata": {},
   "outputs": [
    {
     "name": "stdout",
     "output_type": "stream",
     "text": [
      "65807\n"
     ]
    }
   ],
   "source": [
    "start = 555\n",
    "end = 1111\n",
    "mysum = 0\n",
    "while(start <= end):\n",
    "    if(start%7==0):\n",
    "        mysum = mysum+start\n",
    "    \n",
    "    #inside the while block but outside the if block \n",
    "    start=start+1\n",
    "print(mysum)"
   ]
  },
  {
   "cell_type": "code",
   "execution_count": null,
   "metadata": {},
   "outputs": [],
   "source": []
  },
  {
   "cell_type": "markdown",
   "metadata": {},
   "source": [
    "**Q12.(TAKE HOME EXERCISE)** Write a program to compute the sum of squares of first 10 natural numbers"
   ]
  },
  {
   "cell_type": "code",
   "execution_count": 7,
   "metadata": {},
   "outputs": [
    {
     "name": "stdout",
     "output_type": "stream",
     "text": [
      "385\n"
     ]
    }
   ],
   "source": [
    "sm =0 \n",
    "start = 1 \n",
    "end = 10\n",
    "mysum = 0\n",
    "while(start<=end):\n",
    "    \n",
    "    mysum=mysum+(start**2)\n",
    "    \n",
    "    start=start+1\n",
    "    \n",
    "print(mysum)"
   ]
  },
  {
   "cell_type": "markdown",
   "metadata": {},
   "source": [
    "**Q13 (TAKE HOME EXERCISE)** Write a program to print the sum of squares of all the even numbers between 334 and 667"
   ]
  },
  {
   "cell_type": "code",
   "execution_count": 10,
   "metadata": {},
   "outputs": [
    {
     "name": "stdout",
     "output_type": "stream",
     "text": [
      "sum= 43302432\n"
     ]
    }
   ],
   "source": [
    "\n",
    "start = 334\n",
    "end = 667\n",
    "ssum = 0 \n",
    "while(start <=  end):\n",
    "    if(start%2==0):\n",
    "        e=start*start\n",
    "        ssum = ssum+e\n",
    "        \n",
    "    start=start+1\n",
    "    \n",
    "    \n",
    "    \n",
    "    \n",
    "print(\"sum=\",ssum)"
   ]
  },
  {
   "cell_type": "code",
   "execution_count": 24,
   "metadata": {},
   "outputs": [
    {
     "name": "stdout",
     "output_type": "stream",
     "text": [
      "10\n"
     ]
    }
   ],
   "source": [
    "data=[1,2,3,4,5,6,7,8,9,10]\n",
    "let = len(data)\n",
    "\n",
    "print(data[-1])"
   ]
  },
  {
   "cell_type": "code",
   "execution_count": 27,
   "metadata": {},
   "outputs": [
    {
     "name": "stdout",
     "output_type": "stream",
     "text": [
      "10\n",
      "9\n",
      "8\n",
      "7\n",
      "6\n",
      "5\n",
      "4\n",
      "3\n",
      "2\n",
      "1\n"
     ]
    }
   ],
   "source": [
    "start = -1\n",
    "end = -let\n",
    "while(start>=end):\n",
    "    print(data[start])\n",
    "    start=start-1\n",
    "    "
   ]
  },
  {
   "cell_type": "code",
   "execution_count": null,
   "metadata": {},
   "outputs": [],
   "source": []
  }
 ],
 "metadata": {
  "kernelspec": {
   "display_name": "Python 3",
   "language": "python",
   "name": "python3"
  },
  "language_info": {
   "codemirror_mode": {
    "name": "ipython",
    "version": 3
   },
   "file_extension": ".py",
   "mimetype": "text/x-python",
   "name": "python",
   "nbconvert_exporter": "python",
   "pygments_lexer": "ipython3",
   "version": "3.8.3"
  }
 },
 "nbformat": 4,
 "nbformat_minor": 4
}
